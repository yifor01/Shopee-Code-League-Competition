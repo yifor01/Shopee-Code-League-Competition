{
 "cells": [
  {
   "cell_type": "code",
   "execution_count": 1,
   "metadata": {},
   "outputs": [],
   "source": [
    "from glob import glob\n",
    "import pandas as pd\n",
    "from tqdm import tqdm\n",
    "import logging\n",
    "logging.basicConfig(\n",
    "    level=logging.INFO,\n",
    "    format=u'%(asctime)s - %(levelname)s - %(message)s')"
   ]
  },
  {
   "cell_type": "code",
   "execution_count": 2,
   "metadata": {},
   "outputs": [
    {
     "data": {
      "text/plain": [
       "['./data/train.csv', './data/test.csv', './data/cheet.csv']"
      ]
     },
     "execution_count": 2,
     "metadata": {},
     "output_type": "execute_result"
    }
   ],
   "source": [
    "glob('./data/*.csv')"
   ]
  },
  {
   "cell_type": "code",
   "execution_count": 3,
   "metadata": {},
   "outputs": [],
   "source": [
    "df_train = pd.read_csv('./data/train.csv')\n",
    "df_add   = pd.read_csv('./data/cheet.csv')\n",
    "df_test  = pd.read_csv('./data/test.csv')"
   ]
  },
  {
   "cell_type": "code",
   "execution_count": 4,
   "metadata": {},
   "outputs": [
    {
     "name": "stdout",
     "output_type": "stream",
     "text": [
      "(146811, 3)\n",
      "(62918, 2)\n",
      "(60427, 2)\n"
     ]
    }
   ],
   "source": [
    "for file in [df_train,df_add,df_test]:\n",
    "    print(file.shape)"
   ]
  },
  {
   "cell_type": "code",
   "execution_count": 8,
   "metadata": {},
   "outputs": [],
   "source": [
    "df_train = df_train[['review','rating']]\n",
    "df_test['rating'] = -1\n",
    "df_test = df_test[['review','rating']]"
   ]
  },
  {
   "cell_type": "code",
   "execution_count": 9,
   "metadata": {},
   "outputs": [],
   "source": [
    "df_train = pd.concat([df_train,df_add],axis=0)"
   ]
  },
  {
   "cell_type": "code",
   "execution_count": 10,
   "metadata": {},
   "outputs": [],
   "source": [
    "df_train['rating'] = df_train['rating']  -1"
   ]
  },
  {
   "cell_type": "markdown",
   "metadata": {},
   "source": [
    "# model train"
   ]
  },
  {
   "cell_type": "code",
   "execution_count": 11,
   "metadata": {},
   "outputs": [
    {
     "name": "stdout",
     "output_type": "stream",
     "text": [
      "train data tile length max: 1500\n",
      "train data tile length max: 72.0\n",
      "test data tile length max: 1117\n",
      "test data tile length max: 78.0\n"
     ]
    }
   ],
   "source": [
    "# check length\n",
    "print(f'train data tile length max: {df_train.review.str.len().max()}')\n",
    "print(f'train data tile length max: {df_train.review.str.len().median()}')\n",
    "\n",
    "print(f'test data tile length max: {df_test.review.str.len().max()}')\n",
    "print(f'test data tile length max: {df_test.review.str.len().median()}')"
   ]
  },
  {
   "cell_type": "code",
   "execution_count": 12,
   "metadata": {},
   "outputs": [
    {
     "data": {
      "text/plain": [
       "<matplotlib.rc_context at 0x7f7197ca96a0>"
      ]
     },
     "execution_count": 12,
     "metadata": {},
     "output_type": "execute_result"
    }
   ],
   "source": [
    "import matplotlib.pyplot as plt\n",
    "import seaborn as sns\n",
    "plt.rc_context({'axes.edgecolor': 'orange', 'xtick.color': 'red',\n",
    "                'ytick.color': 'green', 'figure.facecolor': 'white'})"
   ]
  },
  {
   "cell_type": "code",
   "execution_count": 13,
   "metadata": {},
   "outputs": [
    {
     "data": {
      "text/plain": [
       "<matplotlib.axes._subplots.AxesSubplot at 0x7f70eac8f828>"
      ]
     },
     "execution_count": 13,
     "metadata": {},
     "output_type": "execute_result"
    },
    {
     "data": {
      "image/png": "[encoded data removed]",
      "text/plain": [
       "<Figure size 432x288 with 1 Axes>"
      ]
     },
     "metadata": {
      "needs_background": "light"
     },
     "output_type": "display_data"
    }
   ],
   "source": [
    "sns.distplot(df_test.review.str.len())"
   ]
  },
  {
   "cell_type": "code",
   "execution_count": null,
   "metadata": {},
   "outputs": [],
   "source": []
  },
  {
   "cell_type": "code",
   "execution_count": null,
   "metadata": {},
   "outputs": [],
   "source": []
  },
  {
   "cell_type": "code",
   "execution_count": null,
   "metadata": {},
   "outputs": [],
   "source": [
    "# truncate data length large than test data length max\n",
    "MAX_LENGTH = 120\n",
    "BATCH_SIZE = 32\n",
    "\n",
    "df_train.review = df_train.review.apply(lambda x : str(x)[:MAX_LENGTH])\n",
    "df_test.review  = df_test.review.apply(lambda x : str(x)[:MAX_LENGTH])"
   ]
  },
  {
   "cell_type": "code",
   "execution_count": 16,
   "metadata": {},
   "outputs": [
    {
     "name": "stdout",
     "output_type": "stream",
     "text": [
      "train data length: 188756\n",
      "valid data length: 20973\n"
     ]
    },
    {
     "data": {
      "text/html": [
       "<div>\n",
       "<style scoped>\n",
       "    .dataframe tbody tr th:only-of-type {\n",
       "        vertical-align: middle;\n",
       "    }\n",
       "\n",
       "    .dataframe tbody tr th {\n",
       "        vertical-align: top;\n",
       "    }\n",
       "\n",
       "    .dataframe thead th {\n",
       "        text-align: right;\n",
       "    }\n",
       "</style>\n",
       "<table border=\"1\" class=\"dataframe\">\n",
       "  <thead>\n",
       "    <tr style=\"text-align: right;\">\n",
       "      <th></th>\n",
       "      <th>review</th>\n",
       "      <th>rating</th>\n",
       "    </tr>\n",
       "  </thead>\n",
       "  <tbody>\n",
       "    <tr>\n",
       "      <th>0</th>\n",
       "      <td>Akh tp products both confused mask is suitable...</td>\n",
       "      <td>2</td>\n",
       "    </tr>\n",
       "    <tr>\n",
       "      <th>1</th>\n",
       "      <td>Good product quality product quality good pri...</td>\n",
       "      <td>2</td>\n",
       "    </tr>\n",
       "    <tr>\n",
       "      <th>2</th>\n",
       "      <td>Very many things The unique mix very classy ye...</td>\n",
       "      <td>4</td>\n",
       "    </tr>\n",
       "    <tr>\n",
       "      <th>3</th>\n",
       "      <td>Okay, hopefully durable! 🙏</td>\n",
       "      <td>1</td>\n",
       "    </tr>\n",
       "    <tr>\n",
       "      <th>4</th>\n",
       "      <td>Loved it kesetnyaa ...</td>\n",
       "      <td>4</td>\n",
       "    </tr>\n",
       "  </tbody>\n",
       "</table>\n",
       "</div>"
      ],
      "text/plain": [
       "                                              review  rating\n",
       "0  Akh tp products both confused mask is suitable...       2\n",
       "1   Good product quality product quality good pri...       2\n",
       "2  Very many things The unique mix very classy ye...       4\n",
       "3                         Okay, hopefully durable! 🙏       1\n",
       "4                             Loved it kesetnyaa ...       4"
      ]
     },
     "metadata": {},
     "output_type": "display_data"
    }
   ],
   "source": [
    "# sample rate\n",
    "SAMPLE_FRAC = 1\n",
    "VAILD_RATIO = 0.9\n",
    "\n",
    "data_1 = df_train.sample(frac=SAMPLE_FRAC)\n",
    "\n",
    "train_data = data_1[:int(VAILD_RATIO*len(data_1))].reset_index(drop=1)\n",
    "valid_data = data_1[int(VAILD_RATIO*len(data_1)):].reset_index(drop=1)\n",
    "\n",
    "print(f'train data length: {len(train_data)}')\n",
    "print(f'valid data length: {len(valid_data)}')\n",
    "display(train_data.head())"
   ]
  },
  {
   "cell_type": "code",
   "execution_count": null,
   "metadata": {
    "scrolled": true
   },
   "outputs": [],
   "source": [
    "import torch\n",
    "from transformers import *\n",
    "NUM_LABELS = len(df_train.rating.unique())\n",
    "#PRETRAINED_MODEL_NAME = 'bert-base-uncased'\n",
    "PRETRAINED_MODEL_NAME = \"roberta-base\"\n",
    "\n",
    "tokenizer = RobertaTokenizer.from_pretrained(PRETRAINED_MODEL_NAME)\n",
    "model = RobertaForSequenceClassification.from_pretrained(\n",
    "    PRETRAINED_MODEL_NAME, num_labels=NUM_LABELS)\n",
    "\n",
    "device = torch.device(\"cuda:1\" if torch.cuda.is_available() else \"cpu\")\n",
    "model = model.to(device)"
   ]
  },
  {
   "cell_type": "code",
   "execution_count": null,
   "metadata": {},
   "outputs": [],
   "source": []
  },
  {
   "cell_type": "code",
   "execution_count": 19,
   "metadata": {},
   "outputs": [],
   "source": [
    "import emoji\n",
    "from torch.utils.data import Dataset\n",
    "\n",
    "def give_emoji_free_text(text):\n",
    "    allchars = [str for str in text]\n",
    "    emoji_list = [c for c in allchars if c in emoji.UNICODE_EMOJI]\n",
    "    clean_text = ''.join([str for str in text if not any(i in str for i in emoji_list)])\n",
    "    return clean_text\n",
    "\n",
    "class FakeNewsDataset(Dataset):\n",
    "    def __init__(self, df, mode, tokenizer):\n",
    "        self.mode = mode\n",
    "        self.df = df\n",
    "        self.len = len(self.df)\n",
    "        self.tokenizer = tokenizer\n",
    "\n",
    "    def __getitem__(self, idx):\n",
    "\n",
    "        text, label = self.df.iloc[idx, :2].values\n",
    "        label_tensor = torch.tensor(label)\n",
    "        word_pieces = [\"[CLS]\"]\n",
    "\n",
    "        text = give_emoji_free_text(str(text))\n",
    "        text = text[:MAX_LENGTH-2]\n",
    "        text = text.lower()\n",
    "        tokens_a = tokenizer.tokenize(text)\n",
    "\n",
    "        word_pieces += tokens_a + [\"[SEP]\"]\n",
    "        len_a = len(word_pieces)\n",
    "\n",
    "        ids = self.tokenizer.convert_tokens_to_ids(word_pieces)\n",
    "        tokens_tensor = torch.tensor(ids)\n",
    "        segments_tensor = torch.tensor([0] * len_a, dtype=torch.long)\n",
    "\n",
    "        return (tokens_tensor, segments_tensor, label_tensor)\n",
    "\n",
    "    def __len__(self):\n",
    "        return self.len"
   ]
  },
  {
   "cell_type": "code",
   "execution_count": 21,
   "metadata": {},
   "outputs": [],
   "source": [
    "trainset = FakeNewsDataset(train_data,\"train\", tokenizer=tokenizer)\n",
    "validset = FakeNewsDataset(valid_data,\"valid\", tokenizer=tokenizer)\n",
    "testset  = FakeNewsDataset(df_test   ,\"test\" , tokenizer=tokenizer)"
   ]
  },
  {
   "cell_type": "code",
   "execution_count": 22,
   "metadata": {},
   "outputs": [],
   "source": [
    "from torch.utils.data import DataLoader\n",
    "from torch.nn.utils.rnn import pad_sequence\n",
    "\n",
    "def create_mini_batch(samples):\n",
    "    tokens_tensors = [s[0] for s in samples]\n",
    "    segments_tensors = [s[1] for s in samples]\n",
    "    if samples[0][2] is not None:\n",
    "        label_ids = torch.stack([s[2] for s in samples])\n",
    "    else:\n",
    "        label_ids = None\n",
    "    tokens_tensors = pad_sequence(tokens_tensors, batch_first=True)\n",
    "    segments_tensors = pad_sequence(segments_tensors, batch_first=True)\n",
    "    masks_tensors = torch.zeros(tokens_tensors.shape, dtype=torch.long)\n",
    "    masks_tensors = masks_tensors.masked_fill(tokens_tensors != 0, 1)\n",
    "    return tokens_tensors, segments_tensors, masks_tensors, label_ids\n",
    "\n",
    "\n",
    "trainloader = DataLoader(trainset,\n",
    "                         batch_size=BATCH_SIZE,\n",
    "                         collate_fn=create_mini_batch)\n",
    "validloader = DataLoader(validset,\n",
    "                         batch_size=BATCH_SIZE,\n",
    "                         collate_fn=create_mini_batch)\n",
    "testloader = DataLoader(testset,\n",
    "                        batch_size=BATCH_SIZE,\n",
    "                        collate_fn=create_mini_batch)"
   ]
  },
  {
   "cell_type": "code",
   "execution_count": 23,
   "metadata": {},
   "outputs": [],
   "source": [
    "def get_predictions(model, dataloader, compute_acc=False):\n",
    "    predictions = None\n",
    "    prob = None\n",
    "    correct = 0\n",
    "    total = 0\n",
    "    loss = 0\n",
    "    count = 0\n",
    "    with torch.no_grad():\n",
    "        for data in dataloader:\n",
    "            if next(model.parameters()).is_cuda:\n",
    "                data = [t.to(device) for t in data if t is not None]\n",
    "            tokens_tensors, segments_tensors, masks_tensors = data[:3]\n",
    "            outputs = model(input_ids=tokens_tensors,\n",
    "                            token_type_ids=segments_tensors,\n",
    "                            attention_mask=masks_tensors)\n",
    "            logits = outputs[0]\n",
    "            _, pred = torch.max(logits.data, 1)\n",
    "            _prob = torch.nn.functional.softmax(logits, dim=1)\n",
    "\n",
    "            count += 1\n",
    "            if compute_acc:\n",
    "                labels = data[3]\n",
    "                total += labels.size(0)\n",
    "                correct += (pred == labels).sum().item()\n",
    "                loss += torch.nn.functional.cross_entropy(logits, labels)\n",
    "\n",
    "            if predictions is None:\n",
    "                predictions = pred\n",
    "            else:\n",
    "                predictions = torch.cat((predictions, pred))\n",
    "\n",
    "            if prob is None:\n",
    "                prob = _prob\n",
    "            else:\n",
    "                prob = torch.cat((prob, _prob))\n",
    "\n",
    "    if compute_acc:\n",
    "        acc = correct / total\n",
    "        loss = loss / count\n",
    "        return predictions, acc, loss\n",
    "    return prob"
   ]
  },
  {
   "cell_type": "code",
   "execution_count": 24,
   "metadata": {
    "scrolled": false
   },
   "outputs": [
    {
     "name": "stderr",
     "output_type": "stream",
     "text": [
      "2020-07-25 12:48:02,314 - INFO - [epoch  1] loss: 1.080, acc: 0.476, valid_loss: 1.091, valid_acc: 0.461\n",
      "2020-07-25 13:04:49,131 - INFO - [epoch  2] loss: 1.048, acc: 0.485, valid_loss: 1.063, valid_acc: 0.478\n",
      "2020-07-25 13:21:35,123 - INFO - [epoch  3] loss: 1.028, acc: 0.496, valid_loss: 1.048, valid_acc: 0.483\n",
      "2020-07-25 13:38:20,670 - INFO - [epoch  4] loss: 1.012, acc: 0.502, valid_loss: 1.037, valid_acc: 0.492\n",
      "2020-07-25 13:55:05,255 - INFO - [epoch  5] loss: 1.000, acc: 0.507, valid_loss: 1.028, valid_acc: 0.490\n",
      "2020-07-25 14:11:49,839 - INFO - [epoch  6] loss: 0.989, acc: 0.512, valid_loss: 1.024, valid_acc: 0.493\n",
      "2020-07-25 14:28:33,513 - INFO - [epoch  7] loss: 0.978, acc: 0.515, valid_loss: 1.019, valid_acc: 0.495\n",
      "2020-07-25 14:45:15,136 - INFO - [epoch  8] loss: 0.969, acc: 0.520, valid_loss: 1.016, valid_acc: 0.494\n",
      "2020-07-25 15:01:58,271 - INFO - [epoch  9] loss: 0.962, acc: 0.524, valid_loss: 1.016, valid_acc: 0.496\n",
      "2020-07-25 15:18:41,756 - INFO - [epoch 10] loss: 0.951, acc: 0.528, valid_loss: 1.011, valid_acc: 0.503\n",
      "2020-07-25 15:35:28,341 - INFO - [epoch 11] loss: 0.944, acc: 0.531, valid_loss: 1.009, valid_acc: 0.503\n",
      "2020-07-25 15:52:10,862 - INFO - [epoch 12] loss: 0.934, acc: 0.535, valid_loss: 1.006, valid_acc: 0.505\n",
      "2020-07-25 16:08:53,360 - INFO - [epoch 13] loss: 0.925, acc: 0.542, valid_loss: 1.007, valid_acc: 0.505\n",
      "2020-07-25 16:25:36,927 - INFO - [epoch 14] loss: 0.916, acc: 0.544, valid_loss: 1.007, valid_acc: 0.502\n",
      "2020-07-25 16:42:19,176 - INFO - [epoch 15] loss: 0.908, acc: 0.549, valid_loss: 1.011, valid_acc: 0.505\n",
      "2020-07-25 16:59:02,576 - INFO - [epoch 16] loss: 0.898, acc: 0.553, valid_loss: 1.011, valid_acc: 0.507\n",
      "2020-07-25 17:15:45,545 - INFO - [epoch 17] loss: 0.889, acc: 0.558, valid_loss: 1.015, valid_acc: 0.507\n",
      "2020-07-25 17:32:28,541 - INFO - [epoch 18] loss: 0.881, acc: 0.564, valid_loss: 1.009, valid_acc: 0.505\n",
      "2020-07-25 17:49:11,028 - INFO - [epoch 19] loss: 0.869, acc: 0.570, valid_loss: 1.012, valid_acc: 0.510\n",
      "2020-07-25 18:05:52,370 - INFO - [epoch 20] loss: 0.859, acc: 0.574, valid_loss: 1.014, valid_acc: 0.510\n",
      "2020-07-25 18:22:32,836 - INFO - [epoch 21] loss: 0.853, acc: 0.578, valid_loss: 1.016, valid_acc: 0.507\n",
      "2020-07-25 18:39:13,099 - INFO - [epoch 22] loss: 0.848, acc: 0.581, valid_loss: 1.018, valid_acc: 0.514\n",
      "2020-07-25 18:55:53,677 - INFO - [epoch 23] loss: 0.834, acc: 0.587, valid_loss: 1.018, valid_acc: 0.512\n",
      "2020-07-25 19:12:36,245 - INFO - [epoch 24] loss: 0.822, acc: 0.593, valid_loss: 1.023, valid_acc: 0.510\n",
      "2020-07-25 19:29:31,314 - INFO - [epoch 25] loss: 0.815, acc: 0.599, valid_loss: 1.022, valid_acc: 0.517\n",
      "2020-07-25 19:46:14,274 - INFO - [epoch 26] loss: 0.809, acc: 0.601, valid_loss: 1.032, valid_acc: 0.511\n",
      "2020-07-25 20:02:56,070 - INFO - [epoch 27] loss: 0.796, acc: 0.608, valid_loss: 1.028, valid_acc: 0.517\n",
      "2020-07-25 20:19:37,512 - INFO - [epoch 28] loss: 0.788, acc: 0.613, valid_loss: 1.033, valid_acc: 0.515\n",
      "2020-07-25 20:36:20,034 - INFO - [epoch 29] loss: 0.777, acc: 0.618, valid_loss: 1.037, valid_acc: 0.519\n",
      "2020-07-25 20:53:01,917 - INFO - [epoch 30] loss: 0.767, acc: 0.624, valid_loss: 1.041, valid_acc: 0.522\n",
      "2020-07-25 21:09:43,145 - INFO - [epoch 31] loss: 0.757, acc: 0.628, valid_loss: 1.044, valid_acc: 0.522\n",
      "2020-07-25 21:26:25,059 - INFO - [epoch 32] loss: 0.744, acc: 0.636, valid_loss: 1.046, valid_acc: 0.521\n",
      "2020-07-25 21:43:07,898 - INFO - [epoch 33] loss: 0.741, acc: 0.636, valid_loss: 1.049, valid_acc: 0.522\n",
      "2020-07-25 21:59:50,304 - INFO - [epoch 34] loss: 0.728, acc: 0.644, valid_loss: 1.051, valid_acc: 0.529\n",
      "2020-07-25 22:16:31,569 - INFO - [epoch 35] loss: 0.718, acc: 0.650, valid_loss: 1.058, valid_acc: 0.527\n",
      "2020-07-25 22:33:12,471 - INFO - [epoch 36] loss: 0.708, acc: 0.654, valid_loss: 1.060, valid_acc: 0.532\n",
      "2020-07-25 22:49:53,144 - INFO - [epoch 37] loss: 0.697, acc: 0.659, valid_loss: 1.068, valid_acc: 0.532\n",
      "2020-07-25 23:06:49,736 - INFO - [epoch 38] loss: 0.691, acc: 0.664, valid_loss: 1.070, valid_acc: 0.529\n",
      "2020-07-25 23:24:01,439 - INFO - [epoch 39] loss: 0.681, acc: 0.667, valid_loss: 1.066, valid_acc: 0.535\n",
      "2020-07-25 23:40:57,346 - INFO - [epoch 40] loss: 0.673, acc: 0.674, valid_loss: 1.081, valid_acc: 0.536\n",
      "2020-07-25 23:57:50,212 - INFO - [epoch 41] loss: 0.663, acc: 0.678, valid_loss: 1.083, valid_acc: 0.536\n",
      "2020-07-26 00:14:32,317 - INFO - [epoch 42] loss: 0.653, acc: 0.682, valid_loss: 1.102, valid_acc: 0.539\n",
      "2020-07-26 00:31:13,958 - INFO - [epoch 43] loss: 0.643, acc: 0.688, valid_loss: 1.092, valid_acc: 0.540\n",
      "2020-07-26 00:48:06,661 - INFO - [epoch 44] loss: 0.636, acc: 0.691, valid_loss: 1.090, valid_acc: 0.541\n",
      "2020-07-26 01:04:53,632 - INFO - [epoch 45] loss: 0.628, acc: 0.696, valid_loss: 1.110, valid_acc: 0.542\n",
      "2020-07-26 01:21:52,135 - INFO - [epoch 46] loss: 0.616, acc: 0.704, valid_loss: 1.108, valid_acc: 0.543\n",
      "2020-07-26 01:38:45,489 - INFO - [epoch 47] loss: 0.610, acc: 0.705, valid_loss: 1.116, valid_acc: 0.552\n",
      "2020-07-26 01:55:52,740 - INFO - [epoch 48] loss: 0.599, acc: 0.712, valid_loss: 1.127, valid_acc: 0.550\n",
      "2020-07-26 02:12:58,419 - INFO - [epoch 49] loss: 0.591, acc: 0.715, valid_loss: 1.124, valid_acc: 0.553\n",
      "2020-07-26 02:30:04,384 - INFO - [epoch 50] loss: 0.583, acc: 0.721, valid_loss: 1.140, valid_acc: 0.554\n",
      "2020-07-26 02:47:11,737 - INFO - [epoch 51] loss: 0.576, acc: 0.724, valid_loss: 1.152, valid_acc: 0.557\n",
      "2020-07-26 03:04:18,852 - INFO - [epoch 52] loss: 0.565, acc: 0.730, valid_loss: 1.139, valid_acc: 0.552\n",
      "2020-07-26 03:21:25,350 - INFO - [epoch 53] loss: 0.559, acc: 0.733, valid_loss: 1.153, valid_acc: 0.555\n",
      "2020-07-26 03:38:29,382 - INFO - [epoch 54] loss: 0.549, acc: 0.737, valid_loss: 1.163, valid_acc: 0.558\n",
      "2020-07-26 03:55:17,165 - INFO - [epoch 55] loss: 0.539, acc: 0.743, valid_loss: 1.167, valid_acc: 0.561\n",
      "2020-07-26 04:12:00,230 - INFO - [epoch 56] loss: 0.533, acc: 0.746, valid_loss: 1.186, valid_acc: 0.560\n",
      "2020-07-26 04:28:42,133 - INFO - [epoch 57] loss: 0.523, acc: 0.751, valid_loss: 1.184, valid_acc: 0.562\n",
      "2020-07-26 04:45:23,093 - INFO - [epoch 58] loss: 0.515, acc: 0.755, valid_loss: 1.188, valid_acc: 0.566\n",
      "2020-07-26 05:02:03,133 - INFO - [epoch 59] loss: 0.511, acc: 0.756, valid_loss: 1.194, valid_acc: 0.565\n",
      "2020-07-26 05:18:43,138 - INFO - [epoch 60] loss: 0.501, acc: 0.761, valid_loss: 1.213, valid_acc: 0.560\n",
      "2020-07-26 05:35:23,175 - INFO - [epoch 61] loss: 0.491, acc: 0.766, valid_loss: 1.213, valid_acc: 0.570\n",
      "2020-07-26 05:52:05,575 - INFO - [epoch 62] loss: 0.484, acc: 0.770, valid_loss: 1.224, valid_acc: 0.572\n",
      "2020-07-26 06:08:48,131 - INFO - [epoch 63] loss: 0.477, acc: 0.774, valid_loss: 1.244, valid_acc: 0.570\n",
      "2020-07-26 06:25:28,435 - INFO - [epoch 64] loss: 0.473, acc: 0.776, valid_loss: 1.251, valid_acc: 0.571\n",
      "2020-07-26 06:42:11,140 - INFO - [epoch 65] loss: 0.465, acc: 0.779, valid_loss: 1.243, valid_acc: 0.571\n",
      "2020-07-26 06:58:52,525 - INFO - [epoch 66] loss: 0.454, acc: 0.785, valid_loss: 1.254, valid_acc: 0.579\n",
      "2020-07-26 07:15:33,137 - INFO - [epoch 67] loss: 0.449, acc: 0.787, valid_loss: 1.264, valid_acc: 0.576\n",
      "2020-07-26 07:32:15,001 - INFO - [epoch 68] loss: 0.438, acc: 0.792, valid_loss: 1.278, valid_acc: 0.580\n",
      "2020-07-26 07:48:57,464 - INFO - [epoch 69] loss: 0.430, acc: 0.795, valid_loss: 1.273, valid_acc: 0.583\n",
      "2020-07-26 08:05:43,721 - INFO - [epoch 70] loss: 0.428, acc: 0.796, valid_loss: 1.281, valid_acc: 0.582\n",
      "2020-07-26 08:22:31,100 - INFO - [epoch 71] loss: 0.422, acc: 0.799, valid_loss: 1.297, valid_acc: 0.582\n",
      "2020-07-26 08:39:17,965 - INFO - [epoch 72] loss: 0.414, acc: 0.804, valid_loss: 1.302, valid_acc: 0.585\n",
      "2020-07-26 08:56:07,723 - INFO - [epoch 73] loss: 0.408, acc: 0.806, valid_loss: 1.306, valid_acc: 0.587\n",
      "2020-07-26 09:12:57,183 - INFO - [epoch 74] loss: 0.401, acc: 0.809, valid_loss: 1.306, valid_acc: 0.591\n",
      "2020-07-26 09:29:56,143 - INFO - [epoch 75] loss: 0.394, acc: 0.813, valid_loss: 1.333, valid_acc: 0.591\n",
      "2020-07-26 09:46:47,372 - INFO - [epoch 76] loss: 0.391, acc: 0.813, valid_loss: 1.339, valid_acc: 0.591\n",
      "2020-07-26 10:03:31,095 - INFO - [epoch 77] loss: 0.383, acc: 0.817, valid_loss: 1.350, valid_acc: 0.590\n",
      "2020-07-26 10:20:45,813 - INFO - [epoch 78] loss: 0.384, acc: 0.818, valid_loss: 1.359, valid_acc: 0.590\n",
      "2020-07-26 10:37:29,772 - INFO - [epoch 79] loss: 0.377, acc: 0.820, valid_loss: 1.389, valid_acc: 0.597\n"
     ]
    },
    {
     "name": "stderr",
     "output_type": "stream",
     "text": [
      "2020-07-26 10:54:11,218 - INFO - [epoch 80] loss: 0.367, acc: 0.826, valid_loss: 1.387, valid_acc: 0.593\n",
      "2020-07-26 11:10:52,552 - INFO - [epoch 81] loss: 0.365, acc: 0.826, valid_loss: 1.387, valid_acc: 0.592\n",
      "2020-07-26 11:27:32,599 - INFO - [epoch 82] loss: 0.356, acc: 0.830, valid_loss: 1.403, valid_acc: 0.596\n",
      "2020-07-26 11:44:12,932 - INFO - [epoch 83] loss: 0.351, acc: 0.831, valid_loss: 1.388, valid_acc: 0.595\n",
      "2020-07-26 12:00:53,152 - INFO - [epoch 84] loss: 0.348, acc: 0.833, valid_loss: 1.398, valid_acc: 0.596\n",
      "2020-07-26 12:17:35,108 - INFO - [epoch 85] loss: 0.344, acc: 0.834, valid_loss: 1.411, valid_acc: 0.597\n",
      "2020-07-26 12:34:19,480 - INFO - [epoch 86] loss: 0.343, acc: 0.835, valid_loss: 1.449, valid_acc: 0.595\n",
      "2020-07-26 12:51:01,330 - INFO - [epoch 87] loss: 0.333, acc: 0.840, valid_loss: 1.449, valid_acc: 0.601\n",
      "2020-07-26 13:07:42,778 - INFO - [epoch 88] loss: 0.331, acc: 0.840, valid_loss: 1.455, valid_acc: 0.603\n",
      "2020-07-26 13:24:27,288 - INFO - [epoch 89] loss: 0.324, acc: 0.844, valid_loss: 1.444, valid_acc: 0.607\n",
      "2020-07-26 13:41:18,450 - INFO - [epoch 90] loss: 0.329, acc: 0.843, valid_loss: 1.480, valid_acc: 0.601\n",
      "2020-07-26 13:58:08,341 - INFO - [epoch 91] loss: 0.320, acc: 0.846, valid_loss: 1.467, valid_acc: 0.609\n",
      "2020-07-26 14:14:56,170 - INFO - [epoch 92] loss: 0.317, acc: 0.847, valid_loss: 1.495, valid_acc: 0.604\n",
      "2020-07-26 14:31:47,220 - INFO - [epoch 93] loss: 0.308, acc: 0.850, valid_loss: 1.479, valid_acc: 0.607\n",
      "2020-07-26 14:48:36,878 - INFO - [epoch 94] loss: 0.309, acc: 0.850, valid_loss: 1.505, valid_acc: 0.606\n",
      "2020-07-26 15:05:24,992 - INFO - [epoch 95] loss: 0.308, acc: 0.850, valid_loss: 1.501, valid_acc: 0.607\n",
      "2020-07-26 15:22:16,922 - INFO - [epoch 96] loss: 0.302, acc: 0.852, valid_loss: 1.516, valid_acc: 0.605\n",
      "2020-07-26 15:39:13,793 - INFO - [epoch 97] loss: 0.298, acc: 0.855, valid_loss: 1.525, valid_acc: 0.609\n",
      "2020-07-26 15:56:05,378 - INFO - [epoch 98] loss: 0.291, acc: 0.857, valid_loss: 1.532, valid_acc: 0.609\n",
      "2020-07-26 16:12:52,981 - INFO - [epoch 99] loss: 0.296, acc: 0.855, valid_loss: 1.561, valid_acc: 0.611\n",
      "2020-07-26 16:29:37,252 - INFO - [epoch 100] loss: 0.289, acc: 0.858, valid_loss: 1.540, valid_acc: 0.612\n"
     ]
    }
   ],
   "source": [
    "model.train()\n",
    "optimizer = torch.optim.Adam(model.parameters(), lr=1e-6)  # lr=1r-6 (40)\n",
    "EPOCHS = 100\n",
    "for epoch in range(EPOCHS):\n",
    "    for data in trainloader:\n",
    "        tokens_tensors, segments_tensors, \\\n",
    "        masks_tensors, labels = [t.to(device) for t in data]\n",
    "        optimizer.zero_grad()\n",
    "        outputs = model(input_ids=tokens_tensors,\n",
    "                        token_type_ids=segments_tensors,\n",
    "                        attention_mask=masks_tensors,\n",
    "                        labels=labels)\n",
    "        loss = outputs[0]\n",
    "        loss.backward()\n",
    "        optimizer.step()\n",
    "    prob1, acc1, loss1 = get_predictions(model, trainloader, compute_acc=True)\n",
    "    prob2, acc2, loss2 = get_predictions(model, validloader, compute_acc=True)\n",
    "\n",
    "    logging.info(\n",
    "        f\"\"\"[epoch {(epoch + 1):2d}] loss: {loss1:.3f}, acc: {acc1:.3f}, valid_loss: {loss2:.3f}, valid_acc: {acc2:.3f}\"\"\"\n",
    "    )"
   ]
  },
  {
   "cell_type": "code",
   "execution_count": null,
   "metadata": {},
   "outputs": [],
   "source": [
    "model.eval()"
   ]
  },
  {
   "cell_type": "code",
   "execution_count": 26,
   "metadata": {
    "scrolled": true
   },
   "outputs": [
    {
     "name": "stdout",
     "output_type": "stream",
     "text": [
      "==== Valid performance ====\n",
      "[[1657  181  167   55   69]\n",
      " [ 242 1079  369   76   97]\n",
      " [ 170  250 3578  478  607]\n",
      " [  52   44  462 3545 1819]\n",
      " [  49   52  465 2046 3364]]\n",
      "============================================================\n",
      "              precision    recall  f1-score   support\n",
      "\n",
      "           0       0.76      0.78      0.77      2129\n",
      "           1       0.67      0.58      0.62      1863\n",
      "           2       0.71      0.70      0.71      5083\n",
      "           3       0.57      0.60      0.58      5922\n",
      "           4       0.56      0.56      0.56      5976\n",
      "\n",
      "    accuracy                           0.63     20973\n",
      "   macro avg       0.66      0.64      0.65     20973\n",
      "weighted avg       0.63      0.63      0.63     20973\n",
      "\n"
     ]
    }
   ],
   "source": [
    "import numpy as np\n",
    "from sklearn.metrics import confusion_matrix, f1_score, classification_report\n",
    "valid_pred = get_predictions(model, validloader).tolist()\n",
    "valid_pred = [np.argmax(x) for x in valid_pred]\n",
    "y_valid = valid_data.rating\n",
    "print('==== Valid performance ====')\n",
    "print(confusion_matrix(y_valid, valid_pred))\n",
    "print('==' * 30)\n",
    "print(classification_report(y_valid, valid_pred))"
   ]
  },
  {
   "cell_type": "code",
   "execution_count": null,
   "metadata": {},
   "outputs": [],
   "source": [
    "test_pred = get_predictions(model, testloader).tolist()\n",
    "test_pred = [np.argmax(x) for x in test_pred]"
   ]
  },
  {
   "cell_type": "code",
   "execution_count": 34,
   "metadata": {},
   "outputs": [
    {
     "data": {
      "text/html": [
       "<div>\n",
       "<style scoped>\n",
       "    .dataframe tbody tr th:only-of-type {\n",
       "        vertical-align: middle;\n",
       "    }\n",
       "\n",
       "    .dataframe tbody tr th {\n",
       "        vertical-align: top;\n",
       "    }\n",
       "\n",
       "    .dataframe thead th {\n",
       "        text-align: right;\n",
       "    }\n",
       "</style>\n",
       "<table border=\"1\" class=\"dataframe\">\n",
       "  <thead>\n",
       "    <tr style=\"text-align: right;\">\n",
       "      <th></th>\n",
       "      <th>review_id</th>\n",
       "      <th>review</th>\n",
       "    </tr>\n",
       "  </thead>\n",
       "  <tbody>\n",
       "    <tr>\n",
       "      <th>0</th>\n",
       "      <td>1</td>\n",
       "      <td>Great danger, cool, motif and cantik2 jg model...</td>\n",
       "    </tr>\n",
       "    <tr>\n",
       "      <th>1</th>\n",
       "      <td>2</td>\n",
       "      <td>One of the shades don't fit well</td>\n",
       "    </tr>\n",
       "    <tr>\n",
       "      <th>2</th>\n",
       "      <td>3</td>\n",
       "      <td>Very comfortable</td>\n",
       "    </tr>\n",
       "    <tr>\n",
       "      <th>3</th>\n",
       "      <td>4</td>\n",
       "      <td>Fast delivery. Product expiry is on Dec 2022. ...</td>\n",
       "    </tr>\n",
       "    <tr>\n",
       "      <th>4</th>\n",
       "      <td>5</td>\n",
       "      <td>it's sooooo cute! i like playing with the glit...</td>\n",
       "    </tr>\n",
       "  </tbody>\n",
       "</table>\n",
       "</div>"
      ],
      "text/plain": [
       "   review_id                                             review\n",
       "0          1  Great danger, cool, motif and cantik2 jg model...\n",
       "1          2                   One of the shades don't fit well\n",
       "2          3                                   Very comfortable\n",
       "3          4  Fast delivery. Product expiry is on Dec 2022. ...\n",
       "4          5  it's sooooo cute! i like playing with the glit..."
      ]
     },
     "execution_count": 34,
     "metadata": {},
     "output_type": "execute_result"
    }
   ],
   "source": [
    "submit = pd.read_csv('./data/test.csv')\n",
    "submit.head()"
   ]
  },
  {
   "cell_type": "code",
   "execution_count": 35,
   "metadata": {},
   "outputs": [],
   "source": [
    "submit['rating'] =  [np.argmax(x)+1 for x in test_pred_p]"
   ]
  },
  {
   "cell_type": "code",
   "execution_count": 37,
   "metadata": {},
   "outputs": [],
   "source": [
    "submit[['review_id','rating']].to_csv('submit_1.csv',index=0)"
   ]
  }
 ],
 "metadata": {
  "kernelspec": {
   "display_name": "Python 3",
   "language": "python",
   "name": "python3"
  },
  "language_info": {
   "codemirror_mode": {
    "name": "ipython",
    "version": 3
   },
   "file_extension": ".py",
   "mimetype": "text/x-python",
   "name": "python",
   "nbconvert_exporter": "python",
   "pygments_lexer": "ipython3",
   "version": "3.7.3"
  },
  "toc": {
   "base_numbering": 1,
   "nav_menu": {},
   "number_sections": true,
   "sideBar": true,
   "skip_h1_title": false,
   "title_cell": "Table of Contents",
   "title_sidebar": "Contents",
   "toc_cell": false,
   "toc_position": {},
   "toc_section_display": true,
   "toc_window_display": false
  },
  "varInspector": {
   "cols": {
    "lenName": 16,
    "lenType": 16,
    "lenVar": 40
   },
   "kernels_config": {
    "python": {
     "delete_cmd_postfix": "",
     "delete_cmd_prefix": "del ",
     "library": "var_list.py",
     "varRefreshCmd": "print(var_dic_list())"
    },
    "r": {
     "delete_cmd_postfix": ") ",
     "delete_cmd_prefix": "rm(",
     "library": "var_list.r",
     "varRefreshCmd": "cat(var_dic_list()) "
    }
   },
   "types_to_exclude": [
    "module",
    "function",
    "builtin_function_or_method",
    "instance",
    "_Feature"
   ],
   "window_display": false
  }
 },
 "nbformat": 4,
 "nbformat_minor": 4
}
